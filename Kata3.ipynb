{
 "cells": [
  {
   "cell_type": "code",
   "execution_count": null,
   "metadata": {},
   "outputs": [],
   "source": []
  },
  {
   "cell_type": "markdown",
   "metadata": {},
   "source": [
    "# Kata 3"
   ]
  },
  {
   "cell_type": "code",
   "execution_count": null,
   "metadata": {},
   "outputs": [
    {
     "name": "stdout",
     "output_type": "stream",
     "text": [
      "¡Advertencia, velocidad del asteoride riesgosa!.\n"
     ]
    }
   ],
   "source": [
    "Asteroide = 100\n",
    "if Asteroide >= 20: print(\"¡Advertencia, velocidad del asteoride riesgosa!.\")\n",
    "\n",
    "else: print(\"Velociadad del asteroide sin riesgo.\")"
   ]
  },
  {
   "cell_type": "code",
   "execution_count": null,
   "metadata": {},
   "outputs": [
    {
     "name": "stdout",
     "output_type": "stream",
     "text": [
      "¡Hay una hermosa luz en el cielo\n"
     ]
    }
   ],
   "source": [
    "Asteroide = 19\n",
    "if Asteroide <= 20:\n",
    "    print(\"¡Hay una hermosa luz en el cielo\")\n",
    "elif Asteroide >= 21: print(\"¡El cielo sigue siendo hermoso pero sin nada nuevo\")    \n",
    "else: print(\"¡El cielo sigue siendo hermoso pero sin nada nuevo\")\n",
    "\n"
   ]
  },
  {
   "cell_type": "code",
   "execution_count": null,
   "metadata": {},
   "outputs": [
    {
     "name": "stdout",
     "output_type": "stream",
     "text": [
      "¡Peligro, asteroide peligroso acercandose a la tierra!\n"
     ]
    }
   ],
   "source": [
    "Velocidad_asteroide = 58\n",
    "Diametro_asteroide = 44\n",
    "\n",
    "if Velocidad_asteroide >= 25 and Diametro_asteroide >= 25: \n",
    "    print(\"¡Peligro, asteroide peligroso acercandose a la tierra!\")\n",
    "elif Velocidad_asteroide > 20: print(\"¡Hay una hermosa luz en el cielo\")\n",
    "else: print(\"Asteroide sin riesgo.\")\n"
   ]
  }
 ],
 "metadata": {
  "language_info": {
   "name": "python"
  },
  "orig_nbformat": 4
 },
 "nbformat": 4,
 "nbformat_minor": 2
}
